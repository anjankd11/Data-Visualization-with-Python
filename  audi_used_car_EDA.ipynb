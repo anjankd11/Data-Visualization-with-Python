{
 "cells": [
  {
   "cell_type": "markdown",
   "id": "bef8906e",
   "metadata": {},
   "source": [
    "# Data Visualization of used Audi cars with Pie Chart and Barplot "
   ]
  },
  {
   "cell_type": "code",
   "execution_count": 2,
   "id": "e74f65e6",
   "metadata": {},
   "outputs": [],
   "source": [
    "#importing libraries for data analysis and visualization\n",
    "import numpy as np\n",
    "import pandas as pd\n",
    "import matplotlib.pyplot as plt\n",
    "import seaborn as sns \n"
   ]
  },
  {
   "cell_type": "code",
   "execution_count": 3,
   "id": "d9b34550",
   "metadata": {},
   "outputs": [],
   "source": [
    "#reading the csv file as a pandas dataframe variable\n",
    "df = pd.read_csv(\"audi.csv\")"
   ]
  },
  {
   "cell_type": "code",
   "execution_count": 4,
   "id": "a8b01423",
   "metadata": {},
   "outputs": [
    {
     "name": "stdout",
     "output_type": "stream",
     "text": [
      "<class 'pandas.core.frame.DataFrame'>\n",
      "RangeIndex: 10668 entries, 0 to 10667\n",
      "Data columns (total 8 columns):\n",
      " #   Column        Non-Null Count  Dtype  \n",
      "---  ------        --------------  -----  \n",
      " 0   model         10668 non-null  object \n",
      " 1   year          10668 non-null  int64  \n",
      " 2   price         10668 non-null  int64  \n",
      " 3   transmission  10668 non-null  object \n",
      " 4   mileage       10668 non-null  int64  \n",
      " 5   fuelType      10668 non-null  object \n",
      " 6   mpg           10668 non-null  float64\n",
      " 7   engineSize    10668 non-null  float64\n",
      "dtypes: float64(2), int64(3), object(3)\n",
      "memory usage: 666.9+ KB\n"
     ]
    }
   ],
   "source": [
    "df.info()"
   ]
  },
  {
   "cell_type": "markdown",
   "id": "fded782d",
   "metadata": {},
   "source": [
    "Here we can see, in this dataset there are three object type data or categorical data, model, transmission and fuelType. So, these three categorical data are suitable for making visualization with pie charts or bar chart. "
   ]
  },
  {
   "cell_type": "code",
   "execution_count": 5,
   "id": "f5639a83",
   "metadata": {},
   "outputs": [
    {
     "name": "stdout",
     "output_type": "stream",
     "text": [
      "[' A1' ' A6' ' A4' ' A3' ' Q3' ' Q5' ' A5' ' S4' ' Q2' ' A7' ' TT' ' Q7'\n",
      " ' RS6' ' RS3' ' A8' ' Q8' ' RS4' ' RS5' ' R8' ' SQ5' ' S8' ' SQ7' ' S3'\n",
      " ' S5' ' A2' ' RS7']\n"
     ]
    }
   ],
   "source": [
    "print(df[\"model\"].unique())"
   ]
  },
  {
   "cell_type": "markdown",
   "id": "d26db973",
   "metadata": {},
   "source": [
    "But the model data type has too many types to be represented by a pie or bar chart"
   ]
  },
  {
   "cell_type": "code",
   "execution_count": 6,
   "id": "316feba0",
   "metadata": {
    "scrolled": true
   },
   "outputs": [
    {
     "name": "stdout",
     "output_type": "stream",
     "text": [
      "['Manual' 'Automatic' 'Semi-Auto']\n"
     ]
    }
   ],
   "source": [
    "print(df[\"transmission\"].unique())"
   ]
  },
  {
   "cell_type": "code",
   "execution_count": 7,
   "id": "47e2bd9b",
   "metadata": {},
   "outputs": [
    {
     "name": "stdout",
     "output_type": "stream",
     "text": [
      "['Petrol' 'Diesel' 'Hybrid']\n"
     ]
    }
   ],
   "source": [
    "print(df[\"fuelType\"].unique())"
   ]
  },
  {
   "cell_type": "markdown",
   "id": "93393405",
   "metadata": {},
   "source": [
    "As we can see, transmission and fuelType both have three unique values. We know that pie charts are better to show two to three values. But let us do both pie chart and bar plot and then we will decide which type of data visualization is better."
   ]
  },
  {
   "cell_type": "markdown",
   "id": "825e7410",
   "metadata": {},
   "source": [
    "First, let us show the transmission values using pie chart: "
   ]
  },
  {
   "cell_type": "code",
   "execution_count": 8,
   "id": "2030de50",
   "metadata": {},
   "outputs": [
    {
     "data": {
      "image/png": "[encoded data removed]",
      "text/plain": [
       "<Figure size 432x288 with 1 Axes>"
      ]
     },
     "metadata": {},
     "output_type": "display_data"
    }
   ],
   "source": [
    "df[\"transmission\"].value_counts().plot(kind=\"pie\", \n",
    "                                       autopct='%1.1f%%', \n",
    "                                       startangle=0) \n",
    "\n",
    "plt.xlabel(\"Percentange of Audi Cars by Transmission Type \").set_color('blue')\n",
    "plt.ylabel(\"\")\n",
    "plt.show()"
   ]
  },
  {
   "cell_type": "markdown",
   "id": "8eac3cb2",
   "metadata": {},
   "source": [
    "Now, let us see bar plot for the same values. But for that we need to create a separate dataframe from series for only transmission as we need to find the percentage of the cars first to create barplot. "
   ]
  },
  {
   "cell_type": "code",
   "execution_count": 9,
   "id": "990e3546",
   "metadata": {},
   "outputs": [
    {
     "data": {
      "text/html": [
       "<div>\n",
       "<style scoped>\n",
       "    .dataframe tbody tr th:only-of-type {\n",
       "        vertical-align: middle;\n",
       "    }\n",
       "\n",
       "    .dataframe tbody tr th {\n",
       "        vertical-align: top;\n",
       "    }\n",
       "\n",
       "    .dataframe thead th {\n",
       "        text-align: right;\n",
       "    }\n",
       "</style>\n",
       "<table border=\"1\" class=\"dataframe\">\n",
       "  <thead>\n",
       "    <tr style=\"text-align: right;\">\n",
       "      <th></th>\n",
       "      <th>transmission</th>\n",
       "      <th>no_of_cars</th>\n",
       "      <th>% of cars</th>\n",
       "    </tr>\n",
       "  </thead>\n",
       "  <tbody>\n",
       "    <tr>\n",
       "      <th>0</th>\n",
       "      <td>Manual</td>\n",
       "      <td>4369</td>\n",
       "      <td>41.0</td>\n",
       "    </tr>\n",
       "    <tr>\n",
       "      <th>1</th>\n",
       "      <td>Semi-Auto</td>\n",
       "      <td>3591</td>\n",
       "      <td>33.7</td>\n",
       "    </tr>\n",
       "    <tr>\n",
       "      <th>2</th>\n",
       "      <td>Automatic</td>\n",
       "      <td>2708</td>\n",
       "      <td>25.4</td>\n",
       "    </tr>\n",
       "  </tbody>\n",
       "</table>\n",
       "</div>"
      ],
      "text/plain": [
       "  transmission  no_of_cars  % of cars\n",
       "0       Manual        4369       41.0\n",
       "1    Semi-Auto        3591       33.7\n",
       "2    Automatic        2708       25.4"
      ]
     },
     "metadata": {},
     "output_type": "display_data"
    }
   ],
   "source": [
    "#converting data series to a data frame for future manipulation use \n",
    "df_transmission = pd.DataFrame(df[\"transmission\"].value_counts())\n",
    "\n",
    "#resetting and renaming index to show the dataframe properly \n",
    "df_transmission= df_transmission.reset_index()\n",
    "df_transmission = df_transmission.rename(columns={\"index\":\"transmission\",\n",
    "                                          \"transmission\":\"no_of_cars\"})\n",
    "\n",
    "#finding the percentage of the cars\n",
    "df_transmission[\"% of cars\"] = (df_transmission[\"no_of_cars\"]/df.shape[0])*100\n",
    "\n",
    "#rounding the floating point values to ine digit\n",
    "df_transmission = df_transmission.round(1)\n",
    "display(df_transmission)\n"
   ]
  },
  {
   "cell_type": "code",
   "execution_count": 10,
   "id": "c9cae9c8",
   "metadata": {},
   "outputs": [
    {
     "data": {
      "image/png": "[encoded data removed]",
      "text/plain": [
       "<Figure size 432x288 with 1 Axes>"
      ]
     },
     "metadata": {
      "needs_background": "light"
     },
     "output_type": "display_data"
    }
   ],
   "source": [
    "sns.barplot(x=\"transmission\", \n",
    "            y=\"% of cars\", \n",
    "            data=df_transmission, \n",
    "            color=\"blue\",\n",
    "            alpha=0.8)\n",
    "\n",
    "plt.xlabel(\"Types of transmission\")\n",
    "plt.ylabel(\"% of cars\")\n",
    "plt.title(\"Percentage of cars in each transmission type\")\n",
    "plt.yticks(np.arange(0,46,5))\n",
    "\n",
    "plt.show()"
   ]
  },
  {
   "cell_type": "markdown",
   "id": "5496f068",
   "metadata": {},
   "source": [
    "From my point of view, for transmission type it is better to use barplot than pie chart. Becasue from pie chart it is not easy to see the difference between the three values as they are close. For example, in the above pie chart the area of manual and semi-auto seems kind of same. "
   ]
  },
  {
   "cell_type": "markdown",
   "id": "46409b09",
   "metadata": {},
   "source": [
    "Now, let us also see the pie chart and barplot for fuel type. "
   ]
  },
  {
   "cell_type": "code",
   "execution_count": 11,
   "id": "d6d45a5e",
   "metadata": {},
   "outputs": [
    {
     "data": {
      "image/png": "[encoded data removed]",
      "text/plain": [
       "<Figure size 432x288 with 1 Axes>"
      ]
     },
     "metadata": {},
     "output_type": "display_data"
    }
   ],
   "source": [
    "df[\"fuelType\"].value_counts().plot(kind=\"pie\", \n",
    "                                       autopct='%1.1f%%', \n",
    "                                       startangle=0)\n",
    "\n",
    "plt.xlabel(\"Percentange of Audi Cars by Fuel Type \").set_color('blue')\n",
    "plt.ylabel(\"\")\n",
    "plt.show()"
   ]
  },
  {
   "cell_type": "code",
   "execution_count": 12,
   "id": "dc63776a",
   "metadata": {},
   "outputs": [
    {
     "data": {
      "text/html": [
       "<div>\n",
       "<style scoped>\n",
       "    .dataframe tbody tr th:only-of-type {\n",
       "        vertical-align: middle;\n",
       "    }\n",
       "\n",
       "    .dataframe tbody tr th {\n",
       "        vertical-align: top;\n",
       "    }\n",
       "\n",
       "    .dataframe thead th {\n",
       "        text-align: right;\n",
       "    }\n",
       "</style>\n",
       "<table border=\"1\" class=\"dataframe\">\n",
       "  <thead>\n",
       "    <tr style=\"text-align: right;\">\n",
       "      <th></th>\n",
       "      <th>fuelType</th>\n",
       "      <th>no_of_cars</th>\n",
       "      <th>% of cars</th>\n",
       "    </tr>\n",
       "  </thead>\n",
       "  <tbody>\n",
       "    <tr>\n",
       "      <th>0</th>\n",
       "      <td>Diesel</td>\n",
       "      <td>5577</td>\n",
       "      <td>52.3</td>\n",
       "    </tr>\n",
       "    <tr>\n",
       "      <th>1</th>\n",
       "      <td>Petrol</td>\n",
       "      <td>5063</td>\n",
       "      <td>47.5</td>\n",
       "    </tr>\n",
       "    <tr>\n",
       "      <th>2</th>\n",
       "      <td>Hybrid</td>\n",
       "      <td>28</td>\n",
       "      <td>0.3</td>\n",
       "    </tr>\n",
       "  </tbody>\n",
       "</table>\n",
       "</div>"
      ],
      "text/plain": [
       "  fuelType  no_of_cars  % of cars\n",
       "0   Diesel        5577       52.3\n",
       "1   Petrol        5063       47.5\n",
       "2   Hybrid          28        0.3"
      ]
     },
     "metadata": {},
     "output_type": "display_data"
    }
   ],
   "source": [
    "df_fuelType = pd.DataFrame(df[\"fuelType\"].value_counts())\n",
    "df_fuelType= df_fuelType.reset_index()\n",
    "df_fuelType = df_fuelType.rename(columns={\"index\":\"fuelType\",\n",
    "                                          \"fuelType\":\"no_of_cars\"})\n",
    "df_fuelType[\"% of cars\"] = (df_fuelType[\"no_of_cars\"]/df.shape[0])*100\n",
    "\n",
    "df_fuelType = df_fuelType.round(1)\n",
    "display(df_fuelType)"
   ]
  },
  {
   "cell_type": "code",
   "execution_count": 13,
   "id": "7afcc873",
   "metadata": {},
   "outputs": [
    {
     "data": {
      "image/png": "[encoded data removed]",
      "text/plain": [
       "<Figure size 432x288 with 1 Axes>"
      ]
     },
     "metadata": {
      "needs_background": "light"
     },
     "output_type": "display_data"
    }
   ],
   "source": [
    "sns.barplot(x=\"fuelType\", \n",
    "            y=\"% of cars\", \n",
    "            data=df_fuelType, \n",
    "            color=\"red\",\n",
    "            alpha=0.8)\n",
    "\n",
    "plt.xlabel(\"Types of fuelType\")\n",
    "plt.ylabel(\"% of cars\")\n",
    "plt.title(\"Percentage of cars in each fuelType type\")\n",
    "plt.yticks(np.arange(0,56,5))\n",
    "\n",
    "plt.show()"
   ]
  },
  {
   "cell_type": "markdown",
   "id": "473a5d3f",
   "metadata": {},
   "source": [
    "I think in the case of fuelType pie chart and barplot both are suitable. Because only two values are dominant and it is clear which value is bigger. "
   ]
  }
 ],
 "metadata": {
  "kernelspec": {
   "display_name": "Python 3",
   "language": "python",
   "name": "python3"
  },
  "language_info": {
   "codemirror_mode": {
    "name": "ipython",
    "version": 3
   },
   "file_extension": ".py",
   "mimetype": "text/x-python",
   "name": "python",
   "nbconvert_exporter": "python",
   "pygments_lexer": "ipython3",
   "version": "3.8.8"
  }
 },
 "nbformat": 4,
 "nbformat_minor": 5
}
